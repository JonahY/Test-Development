{
 "cells": [
  {
   "cell_type": "code",
   "execution_count": 210,
   "metadata": {
    "ExecuteTime": {
     "end_time": "2021-05-06T09:01:20.419652Z",
     "start_time": "2021-05-06T09:01:20.406693Z"
    }
   },
   "outputs": [],
   "source": [
    "from selenium import webdriver\n",
    "from selenium.webdriver.common.by import By\n",
    "import time\n",
    "from time import sleep\n",
    "import unittest\n",
    "from HTMLTestRunner import HTMLTestRunner\n",
    "from selenium.webdriver.common.action_chains import ActionChains\n",
    "from selenium.webdriver.common.keys import Keys\n",
    "from datetime import datetime"
   ]
  },
  {
   "cell_type": "code",
   "execution_count": 3,
   "metadata": {
    "ExecuteTime": {
     "end_time": "2021-04-30T07:56:40.486831Z",
     "start_time": "2021-04-30T07:56:38.117998Z"
    }
   },
   "outputs": [],
   "source": [
    "driver = webdriver.Chrome()\n",
    "driver.get('http://www.baidu.com')\n",
    "driver.find_element_by_id('kw').send_keys('Selenium2')\n",
    "driver.find_element_by_id('su').click()\n",
    "driver.quit()"
   ]
  },
  {
   "cell_type": "markdown",
   "metadata": {},
   "source": []
  },
  {
   "cell_type": "code",
   "execution_count": 66,
   "metadata": {
    "ExecuteTime": {
     "end_time": "2021-04-30T09:14:56.972327Z",
     "start_time": "2021-04-30T09:14:56.961298Z"
    }
   },
   "outputs": [],
   "source": [
    "class TestCount(unittest.TestCase):\n",
    "    def setUp(self):\n",
    "        print('test start')\n",
    "\n",
    "    def test_equip(self):\n",
    "        reserve = Reserve('周四', 9, 0.5)\n",
    "        reserve.loop()\n",
    "\n",
    "    def tearDown(self):\n",
    "        print('test end')\n",
    "    \n",
    "    \n",
    "class Reserve:\n",
    "    def __init__(self, day, time, dur):\n",
    "        self.day = {'周日':0, '周一':1, '周二':2, '周三':3, '周四':4, '周五':5, '周六':6}[day]\n",
    "        self.start = time * 2\n",
    "        self.end = int(dur / 0.5)\n",
    "    \n",
    "    def loop(self):\n",
    "        self.driver = webdriver.Chrome()\n",
    "        self.driver.implicitly_wait(10)\n",
    "        self.driver.get('http://equip.xjtu.edu.cn/home')\n",
    "        self.driver.maximize_window()\n",
    "        self.driver.find_element_by_id('top_4').click()\n",
    "        \n",
    "        if u'西安交通大学统一身份认证网关' == self.driver.title:\n",
    "            self.driver.find_element_by_name('username').send_keys('winter220')\n",
    "            self.driver.find_element_by_name('pwd').send_keys('hbj220..')\n",
    "            self.driver.find_element_by_id('account_login').click()\n",
    "        sleep(5)\n",
    "        if u'贺冬冬 | ⻄安交通大学⼤型设备物联共享系统（管理平台）' == self.driver.title:\n",
    "            self.driver.find_element_by_xpath('/html/body/table/tbody/tr[2]/td[1]/div/div/div[2]/div[2]/div/div[3]/div/a').click()\n",
    "            search = self.driver.find_element_by_xpath('/html/body/table/tbody/tr[2]/td[2]/div/div/div[5]/div[1]/div[2]/form/input')\n",
    "            search.send_keys('21710234')\n",
    "            search.send_keys(Keys.ENTER)\n",
    "            self.driver.find_element_by_xpath('/html/body/table/tbody/tr[2]/td[2]/div/div/div[4]/div/span/span/span/a[2]').click()\n",
    "            \n",
    "            if self.end == 1:\n",
    "                self.driver.find_element_by_css_selector('#calweek_60934e413cb23 > tbody.hour_grid > tr:nth-child(19) > td.hour_cell.today.R%dC%d' % (self.start, self.day)).click()"
   ]
  },
  {
   "cell_type": "code",
   "execution_count": null,
   "metadata": {
    "ExecuteTime": {
     "end_time": "2021-04-30T09:15:15.773368Z",
     "start_time": "2021-04-30T09:14:57.743487Z"
    },
    "scrolled": true
   },
   "outputs": [],
   "source": [
    "suite = unittest.TestSuite()\n",
    "suite.addTest(TestCount(\"test_equip\"))\n",
    "runner = unittest.TextTestRunner()\n",
    "runner.run(suite)"
   ]
  },
  {
   "cell_type": "code",
   "execution_count": 211,
   "metadata": {
    "ExecuteTime": {
     "end_time": "2021-05-06T09:01:55.263973Z",
     "start_time": "2021-05-06T09:01:24.074232Z"
    }
   },
   "outputs": [
    {
     "name": "stdout",
     "output_type": "stream",
     "text": [
      "False\n",
      "2.0 hours.\n",
      "Alret: 课题组余额不足, 您目前无法使用该设备。\n",
      "Done.\n"
     ]
    }
   ],
   "source": [
    "date = '2021/05/21'\n",
    "week = datetime.strptime(date, '%Y/%m/%d').weekday() + 1\n",
    "day = {'7':2, '1':3, '2':4, '3':5, '4':6, '5':7, '6':8}[str(week)]\n",
    "t0, dur = 9, 2\n",
    "start = int(t0 * 2 + 1)\n",
    "end = start + int(dur / 0.5)\n",
    "\n",
    "driver = webdriver.Chrome()\n",
    "driver.implicitly_wait(10)\n",
    "driver.get('http://equip.xjtu.edu.cn/home')\n",
    "driver.maximize_window()\n",
    "driver.find_element_by_id('top_4').click()\n",
    "\n",
    "if u'西安交通大学统一身份认证网关' == driver.title:\n",
    "    driver.find_element_by_name('username').send_keys('winter220')\n",
    "    driver.find_element_by_name('pwd').send_keys('hbj220..')\n",
    "    driver.find_element_by_id('account_login').click()\n",
    "\n",
    "sleep(4)\n",
    "if u'http://equip.xjtu.edu.cn/lims/' == driver.find_element_by_tag_name('base').get_attribute('href'):\n",
    "    print(driver.find_element_by_tag_name('base').is_displayed())\n",
    "    driver.find_element_by_xpath('/html/body/table/tbody/tr[2]/td[1]/div/div/div[2]/div[2]/div/div[3]/div/a').click()\n",
    "    sleep(1)\n",
    "    search = driver.find_element_by_xpath('/html/body/table/tbody/tr[2]/td[2]/div/div/div[5]/div[1]/div[2]/form/input')\n",
    "    search.send_keys('21710234')\n",
    "    search.send_keys(Keys.ENTER)\n",
    "    driver.find_element_by_xpath('/html/body/table/tbody/tr[2]/td[2]/div/div/div[4]/div/span/span/span/a[2]').click()\n",
    "    sleep(1)\n",
    "    dates = driver.find_element_by_xpath('/html/body/table/tbody/tr[2]/td[2]/div/div/div[5]/table[2]/thead/tr[1]/td/div/h1').text.strip().split(' - ')\n",
    "    time_Saturday = time.mktime(time.strptime(dates[1],'%Y/%m/%d'))\n",
    "    \n",
    "    while time.mktime(time.strptime(date,'%Y/%m/%d')) > time_Saturday:\n",
    "        if driver.find_element_by_xpath('/html/body/table/tbody/tr[2]/td[2]/div/div/div[5]/table[2]/thead/tr[1]/td/div/div[1]/a[2]/span').text == u'下周 »':\n",
    "            driver.find_element_by_xpath('/html/body/table/tbody/tr[2]/td[2]/div/div/div[5]/table[2]/thead/tr[1]/td/div/div[1]/a[2]').click()\n",
    "        else:\n",
    "            driver.find_element_by_xpath('/html/body/table/tbody/tr[2]/td[2]/div/div/div[5]/table[2]/thead/tr[1]/td/div/div[1]/a[3]').click()\n",
    "        sleep(1)\n",
    "        dates = driver.find_element_by_xpath('/html/body/table/tbody/tr[2]/td[2]/div/div/div[5]/table[2]/thead/tr[1]/td/div/h1').text.strip().split(' - ')\n",
    "        time_Saturday = time.mktime(time.strptime(dates[1],'%Y/%m/%d'))\n",
    "    \n",
    "    sleep(4)\n",
    "    if end - start  == 1:\n",
    "        print('Half an hour.')\n",
    "        element = driver.find_element_by_xpath('/html/body/table/tbody/tr[2]/td[2]/div/div/div[5]/table[2]/tbody[3]/tr[%d]/td[%d]' % (start, day))\n",
    "        ActionChains(driver).double_click(element).perform()\n",
    "    else:\n",
    "        print('%.1f hours.' % dur)\n",
    "        element = driver.find_element_by_xpath('/html/body/table/tbody/tr[2]/td[2]/div/div/div[5]/table[2]/tbody[3]/tr[%d]/td[%d]' % (start, day))\n",
    "        target =  driver.find_element_by_xpath('/html/body/table/tbody/tr[2]/td[2]/div/div/div[5]/table[2]/tbody[3]/tr[%d]/td[%d]' % (end, day))\n",
    "        ActionChains(driver).drag_and_drop(element, target).perform()\n",
    "\n",
    "    sleep(1)\n",
    "    try:\n",
    "        dig_alert = driver.switch_to.alert\n",
    "        print('Alret: ' + dig_alert.text)\n",
    "        dig_alert.accept()\n",
    "    except:\n",
    "        print('Entering information...')\n",
    "    finally:\n",
    "        print('Done.')"
   ]
  },
  {
   "cell_type": "markdown",
   "metadata": {},
   "source": []
  },
  {
   "cell_type": "code",
   "execution_count": 7,
   "metadata": {
    "ExecuteTime": {
     "end_time": "2021-03-10T03:11:12.894350Z",
     "start_time": "2021-03-10T03:11:12.875382Z"
    }
   },
   "outputs": [],
   "source": [
    "class Count:\n",
    "    def __init__(self, a, b):\n",
    "        self.a = int(a)\n",
    "        self.b = int(b)\n",
    "        \n",
    "    def add(self):\n",
    "        return self.a + self.b"
   ]
  },
  {
   "cell_type": "code",
   "execution_count": 12,
   "metadata": {
    "ExecuteTime": {
     "end_time": "2021-03-10T03:13:24.667758Z",
     "start_time": "2021-03-10T03:13:24.655756Z"
    }
   },
   "outputs": [],
   "source": [
    "class TestCount(unittest.TestCase):\n",
    "    def setUp(self):\n",
    "        print('test start')\n",
    "    \n",
    "    def test_add(self):\n",
    "        j = Count(2, 3)\n",
    "        self.assertEqual(j.add(), 5)\n",
    "    \n",
    "    def tearDown(self):\n",
    "        print('test end')"
   ]
  },
  {
   "cell_type": "code",
   "execution_count": 15,
   "metadata": {
    "ExecuteTime": {
     "end_time": "2021-03-10T03:19:10.922673Z",
     "start_time": "2021-03-10T03:19:10.895685Z"
    }
   },
   "outputs": [
    {
     "name": "stderr",
     "output_type": "stream",
     "text": [
      "."
     ]
    },
    {
     "name": "stdout",
     "output_type": "stream",
     "text": [
      "test start\n",
      "test end\n"
     ]
    },
    {
     "name": "stderr",
     "output_type": "stream",
     "text": [
      "\n",
      "----------------------------------------------------------------------\n",
      "Ran 1 test in 0.001s\n",
      "\n",
      "OK\n"
     ]
    },
    {
     "data": {
      "text/plain": [
       "<unittest.runner.TextTestResult run=1 errors=0 failures=0>"
      ]
     },
     "execution_count": 15,
     "metadata": {},
     "output_type": "execute_result"
    }
   ],
   "source": [
    "suite = unittest.TestSuite()\n",
    "suite.addTest(TestCount(\"test_add\"))\n",
    "runner = unittest.TextTestRunner()\n",
    "runner.run(suite)"
   ]
  },
  {
   "cell_type": "markdown",
   "metadata": {},
   "source": [
    "### HTMLTestRunner"
   ]
  },
  {
   "cell_type": "code",
   "execution_count": 7,
   "metadata": {
    "ExecuteTime": {
     "end_time": "2021-03-10T07:54:59.839182Z",
     "start_time": "2021-03-10T07:54:59.826194Z"
    }
   },
   "outputs": [],
   "source": [
    "class Baidu(unittest.TestCase):\n",
    "    '''百度搜索测试'''\n",
    "    def setUp(self):\n",
    "        self.driver = webdriver.Chrome()\n",
    "        self.driver.implicitly_wait(10)\n",
    "        self.base_url = 'http://www.baidu.com/'\n",
    "    def test_baidu_search(self):\n",
    "        '''搜索关键字：HTMLTestRunner'''\n",
    "        driver = self.driver\n",
    "        driver.get(self.base_url)\n",
    "        driver.find_element_by_id('kw').send_keys('HTMLTestRunner')\n",
    "        driver.find_element_by_id('su').click()\n",
    "    def tearDown(self):\n",
    "        self.driver.quit()"
   ]
  },
  {
   "cell_type": "code",
   "execution_count": 11,
   "metadata": {
    "ExecuteTime": {
     "end_time": "2021-03-10T07:57:58.964145Z",
     "start_time": "2021-03-10T07:57:54.472149Z"
    }
   },
   "outputs": [
    {
     "name": "stdout",
     "output_type": "stream",
     "text": [
      "<ipykernel.iostream.OutStream object at 0x000001D3EB9DFD30> \n",
      "Time Elapsed: 0:00:04.472033\n"
     ]
    },
    {
     "name": "stderr",
     "output_type": "stream",
     "text": [
      "."
     ]
    }
   ],
   "source": [
    "testunit = unittest.TestSuite()\n",
    "testunit.addTest(Baidu('test_baidu_search'))\n",
    "# test_dir = './test_case'\n",
    "# dixcover = unittest.defaultTestLoader.discover(test_dir, pattern='test_*.py')\n",
    "now = time.strftime('%Y-%m-%d %H_%M_%S')\n",
    "filename = './' + now + 'result.html'\n",
    "fp = open(filename, 'wb')\n",
    "runner = HTMLTestRunner(stream=fp, title='百度搜索测试报告', description='用例执行情况：')\n",
    "runner.run(testunit)\n",
    "fp.close()"
   ]
  },
  {
   "cell_type": "markdown",
   "metadata": {},
   "source": [
    "### PageObject"
   ]
  },
  {
   "cell_type": "code",
   "execution_count": 54,
   "metadata": {
    "ExecuteTime": {
     "end_time": "2021-03-10T09:30:05.383021Z",
     "start_time": "2021-03-10T09:30:05.371022Z"
    }
   },
   "outputs": [],
   "source": [
    "class Page(object):\n",
    "    '''\n",
    "    基础类，用于页面对象类的继承\n",
    "    '''\n",
    "    login_url = 'https://passport.bilibili.com/login'\n",
    "    \n",
    "    def __init__(self, selenium_driver, base_url=login_url):\n",
    "        self.base_url = base_url\n",
    "        self.driver = selenium_driver\n",
    "        self.timeout = 30\n",
    "    def on_page(self):\n",
    "        print(self.driver.current_url, self.base_url, self.url)\n",
    "        return self.driver.current_url == (self.base_url + self.url)\n",
    "    def _open(self, url):\n",
    "        url = self.base_url + url\n",
    "        self.driver.get(url)\n",
    "        assert self.on_page(), 'Did not land on %s' % url\n",
    "    def open(self):\n",
    "        self._open(self.url)\n",
    "    def find_element(self, *loc):\n",
    "        return self.driver.find_element(*loc)\n",
    "#     def mouse_move(self, element):\n",
    "#         return ActionChains(self.driver).move_to_element(element).perform()\n",
    "\n",
    "class LoginPage(Page):\n",
    "    '''\n",
    "    126邮箱登录页面\n",
    "    '''\n",
    "    url = ''\n",
    "    username_loc = (By.ID, 'login-username')\n",
    "    password_loc = (By.ID, 'login-passwd')\n",
    "    submit_loc = (By.CSS_SELECTOR, \".btn-login\")\n",
    "#     def move(self):\n",
    "#         self.mouse_move(self.find_element(*self.mouse_loc))\n",
    "    def type_username(self, username):\n",
    "        self.find_element(*self.username_loc).send_keys(username)\n",
    "    def type_password(self, password):\n",
    "        self.find_element(*self.password_loc).send_keys(password)\n",
    "    def submit(self):\n",
    "        self.find_element(*self.submit_loc).click()\n",
    "\n",
    "def test_user_login(driver, username, password):\n",
    "    '''\n",
    "    测试获取的用户名/密码是否可以登陆\n",
    "    '''\n",
    "    login_page = LoginPage(driver)\n",
    "    login_page.open()\n",
    "    login_page.type_username(username)\n",
    "    login_page.type_password(password)\n",
    "    login_page.submit()\n",
    "    \n",
    "def main():\n",
    "    try:\n",
    "        driver = webdriver.Chrome()\n",
    "        username = '15536300543'\n",
    "        password = 'kfendouba'\n",
    "        test_user_login(driver, username, password)\n",
    "        sleep(10)\n",
    "#         assert (text == 'binchengy@163.com'), '用户名称不匹配，登陆失败!'\n",
    "    finally:\n",
    "        driver.close()"
   ]
  },
  {
   "cell_type": "code",
   "execution_count": 55,
   "metadata": {
    "ExecuteTime": {
     "end_time": "2021-03-10T09:30:21.944458Z",
     "start_time": "2021-03-10T09:30:06.963271Z"
    }
   },
   "outputs": [
    {
     "name": "stdout",
     "output_type": "stream",
     "text": [
      "https://passport.bilibili.com/login https://passport.bilibili.com/login \n"
     ]
    }
   ],
   "source": [
    "main()"
   ]
  }
 ],
 "metadata": {
  "kernelspec": {
   "display_name": "Python 3",
   "language": "python",
   "name": "python3"
  },
  "language_info": {
   "codemirror_mode": {
    "name": "ipython",
    "version": 3
   },
   "file_extension": ".py",
   "mimetype": "text/x-python",
   "name": "python",
   "nbconvert_exporter": "python",
   "pygments_lexer": "ipython3",
   "version": "3.8.5"
  },
  "toc": {
   "base_numbering": 1,
   "nav_menu": {},
   "number_sections": true,
   "sideBar": true,
   "skip_h1_title": false,
   "title_cell": "Table of Contents",
   "title_sidebar": "Contents",
   "toc_cell": false,
   "toc_position": {},
   "toc_section_display": true,
   "toc_window_display": false
  },
  "varInspector": {
   "cols": {
    "lenName": 16,
    "lenType": 16,
    "lenVar": 40
   },
   "kernels_config": {
    "python": {
     "delete_cmd_postfix": "",
     "delete_cmd_prefix": "del ",
     "library": "var_list.py",
     "varRefreshCmd": "print(var_dic_list())"
    },
    "r": {
     "delete_cmd_postfix": ") ",
     "delete_cmd_prefix": "rm(",
     "library": "var_list.r",
     "varRefreshCmd": "cat(var_dic_list()) "
    }
   },
   "types_to_exclude": [
    "module",
    "function",
    "builtin_function_or_method",
    "instance",
    "_Feature"
   ],
   "window_display": false
  }
 },
 "nbformat": 4,
 "nbformat_minor": 4
}
